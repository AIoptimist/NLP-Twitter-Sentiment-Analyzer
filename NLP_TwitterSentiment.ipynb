{
  "nbformat": 4,
  "nbformat_minor": 0,
  "metadata": {
    "kernelspec": {
      "display_name": "Python 3",
      "language": "python",
      "name": "python3"
    },
    "language_info": {
      "codemirror_mode": {
        "name": "ipython",
        "version": 3
      },
      "file_extension": ".py",
      "mimetype": "text/x-python",
      "name": "python",
      "nbconvert_exporter": "python",
      "pygments_lexer": "ipython3",
      "version": "3.7.1"
    },
    "colab": {
      "name": "NLP_TwitterSentiment.ipynb",
      "provenance": [],
      "include_colab_link": true
    }
  },
  "cells": [
    {
      "cell_type": "markdown",
      "metadata": {
        "id": "view-in-github",
        "colab_type": "text"
      },
      "source": [
        "<a href=\"https://colab.research.google.com/github/AIoptimist/NLP-Twitter-Sentiment-Analyzer/blob/master/NLP_TwitterSentiment.ipynb\" target=\"_parent\"><img src=\"https://colab.research.google.com/assets/colab-badge.svg\" alt=\"Open In Colab\"/></a>"
      ]
    },
    {
      "cell_type": "code",
      "metadata": {
        "id": "qn65gp4Y6U4c",
        "colab_type": "code",
        "colab": {}
      },
      "source": [
        "# Importing the libraries\n",
        "import tweepy\n",
        "import re\n",
        "# import pickle    \n",
        "\n",
        "import twitter_credentials       # python file in same directory containing twitter credentials\n",
        "from tweepy import OAuthHandler  # Authenticate machine to access twitter server"
      ],
      "execution_count": 0,
      "outputs": []
    },
    {
      "cell_type": "code",
      "metadata": {
        "id": "NA1jN8eW6U4i",
        "colab_type": "code",
        "colab": {}
      },
      "source": [
        "# Initializing the access \n",
        "auth = OAuthHandler(twitter_credentials.CONSUMER_KEY, twitter_credentials.CONSUMER_SECRET)\n",
        "auth.set_access_token(twitter_credentials.ACCESS_TOKEN, twitter_credentials.ACCESS_TOKEN_SECRET)"
      ],
      "execution_count": 0,
      "outputs": []
    },
    {
      "cell_type": "code",
      "metadata": {
        "id": "nFlzLcI-6U4k",
        "colab_type": "code",
        "colab": {}
      },
      "source": [
        "# search tokens \n",
        "args = ['global warming', 'modi'];                \n",
        "api = tweepy.API(auth,timeout=10)"
      ],
      "execution_count": 0,
      "outputs": []
    },
    {
      "cell_type": "code",
      "metadata": {
        "id": "OsHoWds76U4m",
        "colab_type": "code",
        "colab": {}
      },
      "source": [
        "# Fetching the tweets\n",
        "list_tweets = []\n",
        "query = args[0]\n",
        "\n",
        "# fetching first 100 tweets\n",
        "for status in tweepy.Cursor(api.search, q=query+\" -filter:retweets\", lang='en', result_type='recent').items(100):\n",
        "    list_tweets.append(status.text)"
      ],
      "execution_count": 0,
      "outputs": []
    },
    {
      "cell_type": "code",
      "metadata": {
        "id": "HBM0af3L6U4o",
        "colab_type": "code",
        "colab": {},
        "outputId": "061a0746-8491-4e67-ed3b-c82618c4d361"
      },
      "source": [
        "list_tweets[1]"
      ],
      "execution_count": 0,
      "outputs": [
        {
          "output_type": "execute_result",
          "data": {
            "text/plain": [
              "'@katyjhawkins @brettbretters That seems silly as global warming is a “global”problem and Joaquin phoenix was giving… https://t.co/nLPoFgjn0Q'"
            ]
          },
          "metadata": {
            "tags": []
          },
          "execution_count": 8
        }
      ]
    },
    {
      "cell_type": "code",
      "metadata": {
        "id": "HUotdwGr6U4t",
        "colab_type": "code",
        "colab": {}
      },
      "source": [
        "# Preprocessing the tweets and predicting sentiment\n",
        "for tweet in list_tweets:\n",
        "    tweet = re.sub(r\"^https://t.co/[a-zA-Z0-9]*\\s\", \" \", tweet)\n",
        "    tweet = re.sub(r\"\\s+https://t.co/[a-zA-Z0-9]*\\s\", \" \", tweet)\n",
        "    tweet = re.sub(r\"\\s+https://t.co/[a-zA-Z0-9]*$\", \" \", tweet)\n",
        "    tweet = tweet.lower()\n",
        "    tweet = re.sub(r\"that's\",\"that is\",tweet)\n",
        "    tweet = re.sub(r\"there's\",\"there is\",tweet)\n",
        "    tweet = re.sub(r\"what's\",\"what is\",tweet)\n",
        "    tweet = re.sub(r\"where's\",\"where is\",tweet)\n",
        "    tweet = re.sub(r\"it's\",\"it is\",tweet)\n",
        "    tweet = re.sub(r\"who's\",\"who is\",tweet)\n",
        "    tweet = re.sub(r\"i'm\",\"i am\",tweet)\n",
        "    tweet = re.sub(r\"she's\",\"she is\",tweet)\n",
        "    tweet = re.sub(r\"he's\",\"he is\",tweet)\n",
        "    tweet = re.sub(r\"they're\",\"they are\",tweet)\n",
        "    tweet = re.sub(r\"who're\",\"who are\",tweet)\n",
        "    tweet = re.sub(r\"ain't\",\"am not\",tweet)\n",
        "    tweet = re.sub(r\"wouldn't\",\"would not\",tweet)\n",
        "    tweet = re.sub(r\"shouldn't\",\"should not\",tweet)\n",
        "    tweet = re.sub(r\"can't\",\"can not\",tweet)\n",
        "    tweet = re.sub(r\"couldn't\",\"could not\",tweet)\n",
        "    tweet = re.sub(r\"won't\",\"will not\",tweet)\n",
        "    tweet = re.sub(r\"\\W\",\" \",tweet)\n",
        "    tweet = re.sub(r\"\\d\",\" \",tweet)\n",
        "    tweet = re.sub(r\"\\s+[a-z]\\s+\",\" \",tweet)\n",
        "    tweet = re.sub(r\"\\s+[a-z]$\",\" \",tweet)\n",
        "    tweet = re.sub(r\"^[a-z]\\s+\",\" \",tweet)\n",
        "    tweet = re.sub(r\"\\s+\",\" \",tweet)"
      ],
      "execution_count": 0,
      "outputs": []
    },
    {
      "cell_type": "code",
      "metadata": {
        "id": "H5aF4XZh6U4u",
        "colab_type": "code",
        "colab": {},
        "outputId": "fa06504d-9a4c-4bcb-f099-bd54585c1776"
      },
      "source": [
        "list_tweets[1]"
      ],
      "execution_count": 0,
      "outputs": [
        {
          "output_type": "execute_result",
          "data": {
            "text/plain": [
              "'@katyjhawkins @brettbretters That seems silly as global warming is a “global”problem and Joaquin phoenix was giving… https://t.co/nLPoFgjn0Q'"
            ]
          },
          "metadata": {
            "tags": []
          },
          "execution_count": 9
        }
      ]
    },
    {
      "cell_type": "code",
      "metadata": {
        "id": "vqJUhP4H6U5A",
        "colab_type": "code",
        "colab": {}
      },
      "source": [
        ""
      ],
      "execution_count": 0,
      "outputs": []
    }
  ]
}